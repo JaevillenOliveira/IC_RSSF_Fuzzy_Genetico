{
 "cells": [
  {
   "cell_type": "code",
   "execution_count": 59,
   "metadata": {
    "scrolled": true
   },
   "outputs": [
    {
     "ename": "IndentationError",
     "evalue": "unexpected indent (<ipython-input-59-51f5f0396306>, line 44)",
     "output_type": "error",
     "traceback": [
      "\u001b[0;36m  File \u001b[0;32m\"<ipython-input-59-51f5f0396306>\"\u001b[0;36m, line \u001b[0;32m44\u001b[0m\n\u001b[0;31m    print([sc1.run])\u001b[0m\n\u001b[0m    ^\u001b[0m\n\u001b[0;31mIndentationError\u001b[0m\u001b[0;31m:\u001b[0m unexpected indent\n"
     ]
    }
   ],
   "source": [
    "import pandas as pd\n",
    "import numpy as np\n",
    "import matplotlib.pyplot as plt\n",
    "%matplotlib inline\n",
    "\n",
    "#sc1 = pd.read_csv('Sc1.csv') # Reads all columns\n",
    "\n",
    "sc1 = pd.read_csv('Sc1.csv', usecols=['run', 'type', 'module', 'name', 'value', 'mean'])\n",
    "\n",
    "# for i in range(1, 11):\n",
    "\n",
    "#     pksentCount = sc1[(sc1.run=='wsnSc1T1-0-20200309-09:08:17-8304') & (sc1.type=='scalar') & \n",
    "#                  (sc1.name=='packetSent:count') & (sc1.module.str.endswith('udp')) & (sc1.module.str.startswith('wsn.sensor'))] \n",
    "\n",
    "#     pksentBytes = sc1[(sc1.run=='wsnSc1T1-0-20200309-09:08:17-8304') & (sc1.type=='scalar') & \n",
    "#                  (sc1.name=='packetSent:sum(packetBytes)') & (sc1.module.str.endswith('udp')) & (sc1.module.str.startswith('wsn.sensor'))] \n",
    "\n",
    "#     pkReceivedCount = sc1[(sc1.run=='wsnSc1T1-0-20200309-09:08:17-8304') & (sc1.type=='scalar') & \n",
    "#                  (sc1.name=='packetReceived:count') & (sc1.module.str.endswith('udp')) & (sc1.module.str.startswith('wsn.sink'))] \n",
    "\n",
    "\n",
    "#     pkReceivedBytes = sc1[(sc1.run=='wsnSc1T1-0-20200309-09:08:17-8304') & (sc1.type=='scalar') & \n",
    "#                  (sc1.name=='packetReceived:sum(packetBytes)') & (sc1.module.str.endswith('udp')) & (sc1.module.str.startswith('wsn.sink'))] \n",
    "\n",
    "#     pkloss = sum(pksentCount.value) - sum(pkReceivedCount.value)\n",
    "#     byteLoss = sum(pksentBytes.value) - sum(pkReceivedBytes.value)\n",
    "\n",
    "#     residualEnergy = sc1[(sc1.run=='wsnSc1T1-0-20200309-09:08:17-8304') & (sc1.type=='scalar') & \n",
    "#                  (sc1.name=='residualEnergyCapacity:last') & (sc1.module.str.endswith('energyStorage'))] \n",
    "\n",
    "#     spentEnergyJ = 3000 - sum(residualEnergy.value)\n",
    "#     consumedPower = spentEnergyJ / 240\n",
    "\n",
    "#     latency = sc1[(sc1.run=='wsnSc1T1-0-20200309-09:08:17-8304') & (sc1.type=='histogram') & \n",
    "#                  (sc1.name=='endToEndDelay:histogram')] \n",
    "\n",
    "#     latencyMean = latency.mean()\n",
    "\n",
    "#     jitter = sc1[(sc1.run=='wsnSc1T1-0-20200309-09:08:17-8304') & (sc1.type=='histogram') & \n",
    "#                  (sc1.name=='jitter:histogram')] \n",
    "\n",
    "#     jitterMean = jitter.mean()\n",
    "\n",
    " print(sc1.run)\n",
    "              \n"
   ]
  }
 ],
 "metadata": {
  "kernelspec": {
   "display_name": "Python 3",
   "language": "python",
   "name": "python3"
  },
  "language_info": {
   "codemirror_mode": {
    "name": "ipython",
    "version": 3
   },
   "file_extension": ".py",
   "mimetype": "text/x-python",
   "name": "python",
   "nbconvert_exporter": "python",
   "pygments_lexer": "ipython3",
   "version": "3.6.8"
  }
 },
 "nbformat": 4,
 "nbformat_minor": 2
}
