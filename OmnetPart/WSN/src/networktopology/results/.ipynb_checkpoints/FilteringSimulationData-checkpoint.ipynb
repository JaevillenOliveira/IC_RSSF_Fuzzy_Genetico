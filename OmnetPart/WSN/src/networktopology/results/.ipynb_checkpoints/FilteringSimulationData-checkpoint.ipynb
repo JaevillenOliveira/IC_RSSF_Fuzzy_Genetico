{
 "cells": [
  {
   "cell_type": "code",
   "execution_count": 54,
   "metadata": {},
   "outputs": [
    {
     "name": "stdout",
     "output_type": "stream",
     "text": [
      "                          T1          T2           T3  ...    T8    T9   T10\n",
      "PacketsSent       838.000000  857.000000  2682.000000  ...   0.0   0.0   0.0\n",
      "PacketsReceived   828.000000  845.000000  2646.000000  ...   0.0   0.0   0.0\n",
      "PacketsLost(%)     10.000000   12.000000    36.000000  ...   0.0   0.0   0.0\n",
      "Jitter              0.025608    0.013670     0.023532  ...   NaN   NaN   NaN\n",
      "Latency             0.054974    0.041315     0.065567  ...   NaN   NaN   NaN\n",
      "PowerConsumed(W)    1.066992    1.045737     1.120386  ...  12.5  12.5  12.5\n",
      "\n",
      "[6 rows x 10 columns]\n"
     ]
    }
   ],
   "source": [
    "import pandas as pd\n",
    "import numpy as np\n",
    "import matplotlib.pyplot as plt\n",
    "%matplotlib inline\n",
    "\n",
    "results = pd.DataFrame(index=['PacketsSent', 'PacketsReceived', 'PacketsLost(%)','Jitter','Latency', 'PowerConsumed(W)'])\n",
    "\n",
    "wsnSc1 = pd.read_csv('wsn.csv', usecols=['run', 'type', 'module', 'name', 'value', 'mean'])\n",
    "\n",
    "run = \"wsnSc1T\"\n",
    "\n",
    "for i in range(1, 11):\n",
    "    packetSentCount = wsnSc1[(wsnSc1.run.str.startswith('wsnSc1T'+str(i))) & (wsnSc1.type=='scalar') & (wsnSc1.module.str.startswith(\"wsn.sensor\")) & \n",
    "                 (wsnSc1.module.str.endswith(\"udp\")) & (wsnSc1.name=='packetSent:count')]\n",
    "\n",
    "    packetReceivedCount = wsnSc1[(wsnSc1.run.str.startswith('wsnSc1T'+str(i)))& (wsnSc1.type=='scalar') & (wsnSc1.module.str.startswith(\"wsn.sink\")) & \n",
    "                 (wsnSc1.module.str.endswith(\"udp\")) & (wsnSc1.name=='packetReceived:count')]\n",
    "\n",
    "    totalPkSentCount = sum(packetSentCount.value)\n",
    "    totalPkReceivedCount = sum(packetReceivedCount.value)\n",
    "    packetLoss = totalPkSentCount - totalPkReceivedCount\n",
    "\n",
    "    residualEnergy = wsnSc1[(wsnSc1.run.str.startswith('wsnSc1T'+str(i))) & (wsnSc1.type=='scalar') & (wsnSc1.name=='residualEnergyCapacity:last') & (wsnSc1.module.str.endswith('energyStorage'))] \n",
    "\n",
    "    spentEnergyJ = 3000 - sum(residualEnergy.value)\n",
    "    consumedPower = spentEnergyJ / 240\n",
    "\n",
    "    latency = wsnSc1[(wsnSc1.run.str.startswith('wsnSc1T'+str(i))) & (wsnSc1.type=='histogram') & (wsnSc1.name=='endToEndDelay:histogram')] \n",
    "\n",
    "    latencyMean = latency[\"mean\"].mean()\n",
    "    \n",
    "    jitter = wsnSc1[(wsnSc1.run.str.startswith('wsnSc1T'+str(i))) & (wsnSc1.type=='histogram') & (wsnSc1.name=='jitter:histogram')] \n",
    "    \n",
    "    jitterMean = jitter[\"mean\"].mean()\n",
    "        \n",
    "    runDataCollector = [totalPkSentCount, totalPkReceivedCount, packetLoss, jitterMean, latencyMean, consumedPower]\n",
    "    results.insert(i-1, \"T\"+str(i), runDataCollector)\n",
    "        \n",
    "print(results)\n"
   ]
  },
  {
   "cell_type": "code",
   "execution_count": null,
   "metadata": {},
   "outputs": [],
   "source": []
  },
  {
   "cell_type": "code",
   "execution_count": null,
   "metadata": {},
   "outputs": [],
   "source": []
  },
  {
   "cell_type": "code",
   "execution_count": null,
   "metadata": {},
   "outputs": [],
   "source": []
  },
  {
   "cell_type": "code",
   "execution_count": null,
   "metadata": {},
   "outputs": [],
   "source": []
  }
 ],
 "metadata": {
  "kernelspec": {
   "display_name": "Python 3",
   "language": "python",
   "name": "python3"
  },
  "language_info": {
   "codemirror_mode": {
    "name": "ipython",
    "version": 3
   },
   "file_extension": ".py",
   "mimetype": "text/x-python",
   "name": "python",
   "nbconvert_exporter": "python",
   "pygments_lexer": "ipython3",
   "version": "3.7.4"
  }
 },
 "nbformat": 4,
 "nbformat_minor": 2
}
