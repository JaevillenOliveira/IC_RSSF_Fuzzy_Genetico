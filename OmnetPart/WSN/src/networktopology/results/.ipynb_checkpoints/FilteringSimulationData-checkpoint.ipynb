{
 "cells": [
  {
   "cell_type": "code",
   "execution_count": 11,
   "metadata": {},
   "outputs": [
    {
     "name": "stdout",
     "output_type": "stream",
     "text": [
      "                  T1  T2  T3  T4  T5  T6  T7  T8  T9  T10\n",
      "PacketsSent        0   0   0   0   0   0   0   0   0    0\n",
      "PacketsReceived    1   1   1   1   1   1   1   1   1    1\n",
      "PacketsLost(%)     2   2   2   2   2   2   2   2   2    2\n",
      "Jitter             3   3   3   3   3   3   3   3   3    3\n",
      "Latency            4   4   4   4   4   4   4   4   4    4\n",
      "PowerConsumed(W)   5   5   5   5   5   5   5   5   5    5\n"
     ]
    }
   ],
   "source": [
    "import pandas as pd\n",
    "import numpy as np\n",
    "import matplotlib.pyplot as plt\n",
    "%matplotlib inline\n",
    "\n",
    "results = pd.DataFrame(index=['PacketsSent', 'PacketsReceived', 'PacketsLost(%)','Jitter', \n",
    "                              'Latency', 'PowerConsumed(W)'])\n",
    "\n",
    "wsnSc1 = pd.read_csv('wsn.csv', usecols=['run', 'type', 'module', 'name', 'value'])\n",
    "\n",
    "run = \"wsnSc1T\"\n",
    "\n",
    "for i in range(1, 11):\n",
    "    packetSentCount = wsnSc1[(wsnSc1.run.str.startswith('wsnSc1T'+str(i))) & (wsnSc1.type=='scalar') & (wsnSc1.module.str.startswith(\"wsn.sensor\")) & \n",
    "                 (wsnSc1.module.str.endswith(\"udp\")) & (wsnSc1.name=='packetSent:count')]\n",
    "\n",
    "#    packetSentBytes = wsnSc1[(wsnSc1.run.str.startswith('wsnSc1T1')) & (wsnSc1.type=='scalar') & (wsnSc1.module.str.startswith(\"wsn.sensor\")) & \n",
    "#                 (wsnSc1.module.str.endswith(\"udp\")) & (wsnSc1.name=='packetSent:sum(packetBytes)')]\n",
    "\n",
    "    packetReceivedCount = wsnSc1[(wsnSc1.run.str.startswith('wsnSc1T1')) & (wsnSc1.type=='scalar') & (wsnSc1.module.str.startswith(\"wsn.sink\")) & \n",
    "                 (wsnSc1.module.str.endswith(\"udp\")) & (wsnSc1.name=='packetReceived:count')]\n",
    "\n",
    "#    packetReceivedBytes = wsnSc1[(wsnSc1.run.str.startswith('wsnSc1T1')) & (wsnSc1.type=='scalar') & (wsnSc1.module.str.startswith(\"wsn.sink\")) & \n",
    "#                 (wsnSc1.module.str.endswith(\"udp\")) & (wsnSc1.name=='packetReceived:sum(packetBytes)')]\n",
    "    \n",
    "    runDataCollector = [0, 1, 2, 3, 4, 5]\n",
    "    results.insert(i-1, \"T\"+str(i), runDataCollector)\n",
    "    \n",
    "    \n",
    "print(results)\n"
   ]
  },
  {
   "cell_type": "code",
   "execution_count": null,
   "metadata": {},
   "outputs": [],
   "source": []
  },
  {
   "cell_type": "code",
   "execution_count": null,
   "metadata": {},
   "outputs": [],
   "source": []
  },
  {
   "cell_type": "code",
   "execution_count": null,
   "metadata": {},
   "outputs": [],
   "source": []
  },
  {
   "cell_type": "code",
   "execution_count": null,
   "metadata": {},
   "outputs": [],
   "source": []
  }
 ],
 "metadata": {
  "kernelspec": {
   "display_name": "Python 3",
   "language": "python",
   "name": "python3"
  },
  "language_info": {
   "codemirror_mode": {
    "name": "ipython",
    "version": 3
   },
   "file_extension": ".py",
   "mimetype": "text/x-python",
   "name": "python",
   "nbconvert_exporter": "python",
   "pygments_lexer": "ipython3",
   "version": "3.7.4"
  }
 },
 "nbformat": 4,
 "nbformat_minor": 2
}
